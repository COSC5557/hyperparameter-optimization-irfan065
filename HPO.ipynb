{
  "nbformat": 4,
  "nbformat_minor": 0,
  "metadata": {
    "colab": {
      "provenance": []
    },
    "kernelspec": {
      "name": "python3",
      "display_name": "Python 3"
    },
    "language_info": {
      "name": "python"
    }
  },
  "cells": [
    {
      "cell_type": "markdown",
      "source": [
        "##Importing Libraries"
      ],
      "metadata": {
        "id": "xJt79MtsDqhi"
      }
    },
    {
      "cell_type": "code",
      "source": [
        "import pandas as pd\n",
        "from sklearn.model_selection import train_test_split, cross_val_score\n",
        "from sklearn.ensemble import RandomForestClassifier\n",
        "from sklearn.svm import SVC\n",
        "from sklearn.linear_model import LogisticRegression\n",
        "from sklearn.tree import DecisionTreeClassifier\n",
        "from scipy import stats\n",
        "import warnings\n",
        "from sklearn.model_selection import GridSearchCV\n",
        "from sklearn.exceptions import FitFailedWarning\n"
      ],
      "metadata": {
        "id": "ugGZ9-tzD38v"
      },
      "execution_count": 160,
      "outputs": []
    },
    {
      "cell_type": "markdown",
      "source": [
        "## Importing Data"
      ],
      "metadata": {
        "id": "Tw75-XBnEQo0"
      }
    },
    {
      "cell_type": "code",
      "source": [
        "data = pd.read_csv('wineq.csv')\n",
        "X = data.iloc[:, :-1].values\n",
        "y = data.iloc[:, -1].values\n",
        "X_train, X_test, y_train, y_test = train_test_split(X, y, test_size=0.2, random_state=0)"
      ],
      "metadata": {
        "id": "fePeR-8UEckD"
      },
      "execution_count": 161,
      "outputs": []
    },
    {
      "cell_type": "markdown",
      "source": [
        "## Algorithm Selection"
      ],
      "metadata": {
        "id": "DsUhKw34FPEG"
      }
    },
    {
      "cell_type": "code",
      "source": [
        "\n",
        "models = [\n",
        "    ('Random Forest', RandomForestClassifier()),\n",
        "    ('SVM', SVC()),\n",
        "    ('Logistic Regression', LogisticRegression()),\n",
        "    ('Decision Tree', DecisionTreeClassifier())\n",
        "]\n"
      ],
      "metadata": {
        "id": "0Y70ACnlFZll"
      },
      "execution_count": 162,
      "outputs": []
    },
    {
      "cell_type": "markdown",
      "source": [
        "## Cross-Validation and Model Evaluation"
      ],
      "metadata": {
        "id": "kqiJUMShFhXM"
      }
    },
    {
      "cell_type": "code",
      "source": [
        "from sklearn.exceptions import ConvergenceWarning\n",
        "warnings.filterwarnings(\"ignore\", category=ConvergenceWarning)\n",
        "results = {}\n",
        "for name, model in models:\n",
        "    scores = cross_val_score(model, X_train, y_train, cv=5, scoring='accuracy')\n",
        "    results[name] = scores"
      ],
      "metadata": {
        "id": "saRL5EJBFmzN"
      },
      "execution_count": 163,
      "outputs": []
    },
    {
      "cell_type": "markdown",
      "source": [
        "## Statistical Tests"
      ],
      "metadata": {
        "id": "NtYjoSlpGRss"
      }
    },
    {
      "cell_type": "code",
      "source": [
        "comparisons = []\n",
        "for i, (name1, _) in enumerate(models):\n",
        "    for j, (name2, _) in enumerate(models):\n",
        "        if i < j:\n",
        "            p_value = stats.ttest_rel(results[name1], results[name2]).pvalue\n",
        "            comparisons.append((name1, name2, p_value))"
      ],
      "metadata": {
        "id": "rcRDCeESGbJD"
      },
      "execution_count": 164,
      "outputs": []
    },
    {
      "cell_type": "markdown",
      "source": [
        "## Model Selection"
      ],
      "metadata": {
        "id": "NPlmKdmYG3iP"
      }
    },
    {
      "cell_type": "code",
      "source": [
        "alpha = 0.01  # Set your significance level\n",
        "selected_algorithms = [name for name, _ in models if all(p >= alpha for _, _, p in comparisons if _ == name)]"
      ],
      "metadata": {
        "id": "tlUb1Z4ZG7uh"
      },
      "execution_count": 165,
      "outputs": []
    },
    {
      "cell_type": "markdown",
      "source": [
        "## Final Selection"
      ],
      "metadata": {
        "id": "hbjtuoytHXP3"
      }
    },
    {
      "cell_type": "code",
      "source": [
        "final_scores = {}\n",
        "for name, model in models:\n",
        "    model.fit(X_train, y_train)\n",
        "    accuracy = model.score(X_test, y_test)\n",
        "    final_scores[name] = accuracy\n",
        "\n",
        "best_model = max(final_scores, key=final_scores.get)\n",
        "for name, accuracy in final_scores.items():\n",
        "    print(f\"{name} Accuracy: {accuracy}\")\n",
        "print(\"Selected Algorithms:\", selected_algorithms)\n",
        "print(\"Best Model:\", best_model, final_scores[best_model])\n",
        "\n"
      ],
      "metadata": {
        "colab": {
          "base_uri": "https://localhost:8080/"
        },
        "id": "XuMrvU8cHWaR",
        "outputId": "b5fb9c3c-47bb-422c-bd64-7a155b5274f9"
      },
      "execution_count": 166,
      "outputs": [
        {
          "output_type": "stream",
          "name": "stdout",
          "text": [
            "Random Forest Accuracy: 0.715625\n",
            "SVM Accuracy: 0.503125\n",
            "Logistic Regression Accuracy: 0.63125\n",
            "Decision Tree Accuracy: 0.646875\n",
            "Selected Algorithms: ['Random Forest']\n",
            "Best Model: Random Forest 0.715625\n"
          ]
        }
      ]
    },
    {
      "cell_type": "markdown",
      "source": [
        "## Hyperparameter Optimization"
      ],
      "metadata": {
        "id": "K0ACs4G1RuP6"
      }
    },
    {
      "cell_type": "code",
      "source": [
        "warnings.filterwarnings(\"ignore\", category=FitFailedWarning)\n",
        "# Hyperparameter Optimization for Logistic Regression\n",
        "logreg_param_grid = {\n",
        "    'C': [0.1, 0.5, 1, 5, 10],\n",
        "    'penalty': ['15', 'l1', 'l2'],\n",
        "    'solver': ['newton-cg', 'lbfgs', 'liblinear', 'sag', 'saga']\n",
        "}\n",
        "\n",
        "logreg_optimized = GridSearchCV(LogisticRegression(max_iter=100), param_grid=logreg_param_grid, cv=5, scoring='accuracy')\n",
        "logreg_optimized.fit(X_train, y_train)\n",
        "best_logreg_model = logreg_optimized.best_estimator_\n",
        "logreg_accuracy = best_logreg_model.score(X_test, y_test)\n",
        "\n",
        "# Hyperparameter Optimization for Decision Tree\n",
        "dt_param_grid = {\n",
        "    'max_depth': [None, 10, 20, 30, 50,100],\n",
        "    'min_samples_split': [2, 5, 10, 15],\n",
        "    'min_samples_leaf': [1, 2, 4, 7]\n",
        "}\n",
        "\n",
        "dt_optimized = GridSearchCV(DecisionTreeClassifier(), param_grid=dt_param_grid, cv=5, scoring='accuracy')\n",
        "dt_optimized.fit(X_train, y_train)\n",
        "best_dt_model = dt_optimized.best_estimator_\n",
        "dt_accuracy = best_dt_model.score(X_test, y_test)\n",
        "# Hyperparameter Optimization for Random Forest\n",
        "rf_param_grid = {\n",
        "    'n_estimators': [10, 50, 100, 200],\n",
        "    'max_depth': [None, 10, 20, 30],\n",
        "    'min_samples_split': [2, 5, 10],\n",
        "    'min_samples_leaf': [1, 2, 4]\n",
        "}\n",
        "\n",
        "rf_optimized = GridSearchCV(RandomForestClassifier(), param_grid=rf_param_grid, cv=5, scoring='accuracy')\n",
        "rf_optimized.fit(X_train, y_train)\n",
        "best_rf_model = rf_optimized.best_estimator_\n",
        "rf_accuracy = best_rf_model.score(X_test, y_test)\n",
        "# Hyperparameter Optimization for SVM\n",
        "svm_param_grid = {\n",
        "    'C': [ 0.1, 0.8, 2, 10],\n",
        "    'kernel': ['linear', 'rbf', 'poly', 'sigmoid']\n",
        "}\n",
        "\n",
        "svm_optimized = GridSearchCV(SVC(), param_grid=svm_param_grid, cv=5, scoring='accuracy')\n",
        "svm_optimized.fit(X_train, y_train)\n",
        "best_svm_model = svm_optimized.best_estimator_\n",
        "svm_accuracy = best_svm_model.score(X_test, y_test)\n"
      ],
      "metadata": {
        "id": "67mr37J9L9ql"
      },
      "execution_count": null,
      "outputs": []
    },
    {
      "cell_type": "markdown",
      "source": [
        "## Final Selection after HPO"
      ],
      "metadata": {
        "id": "kvAwMm8ZSBOM"
      }
    },
    {
      "cell_type": "code",
      "source": [
        "\n",
        "final_scores = {\n",
        "    'Random Forest': rf_accuracy,\n",
        "    'SVM': svm_accuracy,\n",
        "    'Logistic Regression': logreg_accuracy,\n",
        "    'Decision Tree': dt_accuracy\n",
        "}\n",
        "\n",
        "best_model = max(final_scores, key=final_scores.get)\n",
        "\n",
        "for name, accuracy in final_scores.items():\n",
        "    print(f\"{name} Accuracy: {accuracy}\")\n",
        "\n",
        "print(\"Selected Algorithms:\", selected_algorithms)\n",
        "print(\"Best Model:\", best_model, final_scores[best_model])\n"
      ],
      "metadata": {
        "colab": {
          "base_uri": "https://localhost:8080/"
        },
        "id": "RFGfAnscNoRs",
        "outputId": "65b6dd70-ac88-49dd-cfbc-e6d40e2339bb"
      },
      "execution_count": 168,
      "outputs": [
        {
          "output_type": "stream",
          "name": "stdout",
          "text": [
            "Random Forest Accuracy: 0.73125\n",
            "SVM Accuracy: 0.6375\n",
            "Logistic Regression Accuracy: 0.625\n",
            "Decision Tree Accuracy: 0.6625\n",
            "Selected Algorithms: ['Random Forest']\n",
            "Best Model: Random Forest 0.73125\n"
          ]
        }
      ]
    }
  ]
}